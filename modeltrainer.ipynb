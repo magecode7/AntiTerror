{
 "cells": [
  {
   "cell_type": "code",
   "execution_count": null,
   "metadata": {},
   "outputs": [],
   "source": [
    "from catboost import Pool\n",
    "import pandas\n",
    "from sklearn.model_selection import train_test_split\n",
    "\n",
    "data = pandas.read_csv('normal.csv', sep=';')\n",
    "terdata = pandas.read_csv('terror.csv', sep=';')\n",
    "all_data = pandas.concat([data, terdata])\n",
    "\n",
    "train_X = all_data['messages']\n",
    "train_y = all_data['labels']\n",
    "\n",
    "train_X, eval_X, train_y, eval_y = train_test_split(train_X, train_y, test_size=0.2, random_state=10)\n",
    "\n",
    "text_features = [0]\n",
    "\n",
    "import semantic\n",
    "lemma_train_X = []\n",
    "for text in train_X:\n",
    "    lemma_text = semantic.lemmatize(str(text))\n",
    "    lemma_train_X.append(lemma_text)\n",
    "\n",
    "lemma_eval_X = []\n",
    "for text in eval_X:\n",
    "    lemma_text = semantic.lemmatize(str(text))\n",
    "    lemma_eval_X.append(lemma_text)\n",
    "\n",
    "train_pool = Pool(data=lemma_train_X,\n",
    "                    label=train_y,\n",
    "                    text_features=text_features)\n",
    "\n",
    "eval_pool = Pool(data=lemma_eval_X, label=eval_y, text_features=text_features)\n",
    "\n",
    "pandas.DataFrame(lemma_train_X)"
   ]
  },
  {
   "cell_type": "code",
   "execution_count": null,
   "metadata": {},
   "outputs": [],
   "source": [
    "from catboost import CatBoostClassifier\n",
    "\n",
    "options = {\n",
    "            \"tokenizers\" : [{\n",
    "                \"tokenizer_id\" : \"Sense\",\n",
    "                \"separator_type\" : \"BySense\",\n",
    "                'lowercasing': 'True',\n",
    "                'token_types':['Word', 'Number']\n",
    "            }],\n",
    "\n",
    "            \"dictionaries\" : [{\n",
    "                \"dictionary_id\" : \"Word\",\n",
    "                \"max_dictionary_size\" : \"50000\",\n",
    "                \"gram_order\" : \"1\"\n",
    "            }, \n",
    "            {\n",
    "                \"dictionary_id\" : \"BiGram\",\n",
    "                \"max_dictionary_size\" : \"50000\",\n",
    "                \"gram_order\" : \"2\"\n",
    "            },\n",
    "            {\n",
    "                \"dictionary_id\" : \"TriGram\",\n",
    "                \"max_dictionary_size\" : \"50000\",\n",
    "                \"gram_order\" : \"3\"\n",
    "            }],\n",
    "            \"feature_processing\" : {\n",
    "                \"default\" : [{\n",
    "                    \"dictionaries_names\" : [\"Word\", \"BiGram\"],\n",
    "                    \"feature_calcers\" : [\"BoW:top_tokens_count=1000\", \"NaiveBayes\"],\n",
    "                    \"tokenizers_names\" : [\"Sense\"]\n",
    "                },\n",
    "                {\n",
    "                    \"dictionaries_names\" : [\"Word\"],\n",
    "                    \"feature_calcers\" : [\"NaiveBayes\"],\n",
    "                    \"tokenizers_names\" : [\"Sense\"]\n",
    "                },\n",
    "                {\n",
    "                    \"dictionaries_names\" : [\"Word\", \"BiGram\"],\n",
    "                    \"feature_calcers\" : [\"BM25\"],\n",
    "                    \"tokenizers_names\" : [\"Sense\"]\n",
    "                }]\n",
    "            }\n",
    "        }\n",
    "\n",
    "# Initialize CatBoostClassifier\n",
    "model = CatBoostClassifier(\n",
    "    iterations=1000,\n",
    "    learning_rate=0.6,\n",
    "    task_type=\"GPU\",\n",
    "    devices='0:1',\n",
    "    loss_function='Logloss',\n",
    "    eval_metric='AUC',\n",
    "    custom_loss=['Accuracy'],\n",
    "    random_strength=4,\n",
    "    random_seed=7,\n",
    "    text_processing=options\n",
    ")\n",
    "\n",
    "model.fit(train_pool, eval_set=eval_pool, use_best_model=True, plot=True)"
   ]
  },
  {
   "cell_type": "code",
   "execution_count": null,
   "metadata": {},
   "outputs": [],
   "source": [
    "model.tree_count_"
   ]
  },
  {
   "cell_type": "code",
   "execution_count": null,
   "metadata": {},
   "outputs": [],
   "source": [
    "model.plot_tree(tree_idx=1, pool=train_pool)"
   ]
  },
  {
   "cell_type": "code",
   "execution_count": null,
   "metadata": {},
   "outputs": [],
   "source": [
    "model.save_model('terror.model')"
   ]
  },
  {
   "cell_type": "code",
   "execution_count": null,
   "metadata": {},
   "outputs": [],
   "source": [
    "pred_y = model.predict(eval_pool)\n",
    "\n",
    "import matplotlib.pyplot as plt\n",
    "plt.hist([pred_y, eval_y])\n",
    "plt.show()"
   ]
  },
  {
   "cell_type": "code",
   "execution_count": null,
   "metadata": {},
   "outputs": [],
   "source": [
    "from sklearn.metrics import classification_report\n",
    "print(classification_report(pred_y, eval_y))"
   ]
  },
  {
   "cell_type": "code",
   "execution_count": null,
   "metadata": {},
   "outputs": [],
   "source": [
    "lemma_ter_X = []\n",
    "for ter_text in terdata['messages']:\n",
    "    lemma_ter_X.append(semantic.lemmatize(ter_text))\n",
    "\n",
    "ter_pool = Pool(data=lemma_ter_X, text_features=text_features)\n",
    "pred_y = model.predict(ter_pool)\n",
    "\n",
    "import matplotlib.pyplot as plt\n",
    "plt.hist([pred_y, terdata['labels']])\n",
    "plt.show()"
   ]
  },
  {
   "cell_type": "code",
   "execution_count": null,
   "metadata": {},
   "outputs": [],
   "source": [
    "a = []\n",
    "for i in range(len(pred_y)):\n",
    "    if pred_y[i] == 0: a.append(terdata['messages'][i])\n",
    "\n",
    "print(len(a), '\\n', '\\n'.join(a))"
   ]
  },
  {
   "cell_type": "code",
   "execution_count": null,
   "metadata": {},
   "outputs": [],
   "source": [
    "lem_text = semantic.lemmatize(input('Enter message: '))\n",
    "print(lem_text)\n",
    "input_pool = Pool([lem_text], text_features=text_features)\n",
    "        \n",
    "print(model.predict(input_pool))\n",
    "print(model.predict_proba(input_pool))"
   ]
  },
  {
   "cell_type": "code",
   "execution_count": null,
   "metadata": {},
   "outputs": [],
   "source": [
    "lemma_ter_X = []\n",
    "for ter_text in terdata['messages']:\n",
    "    lemma_ter_X.append(semantic.lemmatize(ter_text))\n",
    "\n",
    "ter_pool = Pool(data=lemma_ter_X, text_features=text_features)\n",
    "pred_y = model.predict_proba(ter_pool)\n",
    "\n",
    "chance_y = []\n",
    "for p in pred_y:\n",
    "    chance_y.append(p[1])\n",
    "\n",
    "import matplotlib.pyplot as plt\n",
    "plt.hist([chance_y, terdata['labels']])\n",
    "plt.show()"
   ]
  },
  {
   "cell_type": "code",
   "execution_count": null,
   "metadata": {},
   "outputs": [],
   "source": [
    "from catboost import cv\n",
    "\n",
    "params = {}\n",
    "params['loss_function'] = 'Logloss'\n",
    "params['iterations'] = 200\n",
    "params['custom_loss'] = 'AUC'\n",
    "params['random_seed'] = 40\n",
    "params['learning_rate'] = 0.7\n",
    "\n",
    "cv_data = cv(\n",
    "    params=params,\n",
    "    pool=train_pool,\n",
    "    fold_count=5,\n",
    "    shuffle=True,\n",
    "    partition_random_seed=0,\n",
    "    plot=True,\n",
    "    stratified=True,\n",
    "    verbose=False\n",
    ")"
   ]
  },
  {
   "cell_type": "code",
   "execution_count": null,
   "metadata": {},
   "outputs": [],
   "source": [
    "from catboost.utils import get_roc_curve\n",
    "import sklearn\n",
    "from sklearn import metrics\n",
    "\n",
    "curve = get_roc_curve(model, eval_pool)\n",
    "(fpr, tpr, thresholds) = curve\n",
    "roc_auc = sklearn.metrics.auc(fpr, tpr)"
   ]
  },
  {
   "cell_type": "code",
   "execution_count": null,
   "metadata": {},
   "outputs": [],
   "source": [
    "import matplotlib.pyplot as plt\n",
    "\n",
    "plt.figure(figsize=(16, 8))\n",
    "lw = 2\n",
    "\n",
    "plt.plot(fpr, tpr, color='darkorange',\n",
    "         lw=lw, label='ROC curve (area = %0.2f)' % roc_auc, alpha=0.5)\n",
    "\n",
    "plt.plot([0, 1], [0, 1], color='navy', lw=lw, linestyle='--', alpha=0.5)\n",
    "\n",
    "plt.xlim([0.0, 1.0])\n",
    "plt.ylim([0.0, 1.05])\n",
    "plt.xticks(fontsize=16)\n",
    "plt.yticks(fontsize=16)\n",
    "plt.grid(True)\n",
    "plt.xlabel('False Positive Rate', fontsize=16)\n",
    "plt.ylabel('True Positive Rate', fontsize=16)\n",
    "plt.title('Receiver operating characteristic', fontsize=20)\n",
    "plt.legend(loc=\"lower right\", fontsize=16)\n",
    "plt.show()"
   ]
  },
  {
   "cell_type": "code",
   "execution_count": null,
   "metadata": {},
   "outputs": [],
   "source": [
    "from catboost.utils import get_fpr_curve\n",
    "from catboost.utils import get_fnr_curve\n",
    "\n",
    "(thresholds, fpr) = get_fpr_curve(curve=curve)\n",
    "(thresholds, fnr) = get_fnr_curve(curve=curve)"
   ]
  },
  {
   "cell_type": "code",
   "execution_count": null,
   "metadata": {},
   "outputs": [],
   "source": [
    "plt.figure(figsize=(16, 8))\n",
    "lw = 2\n",
    "\n",
    "plt.plot(thresholds, fpr, color='blue', lw=lw, label='FPR', alpha=0.5)\n",
    "plt.plot(thresholds, fnr, color='green', lw=lw, label='FNR', alpha=0.5)\n",
    "\n",
    "plt.xlim([0.0, 1.0])\n",
    "plt.ylim([0.0, 1.05])\n",
    "plt.xticks(fontsize=16)\n",
    "plt.yticks(fontsize=16)\n",
    "plt.grid(True)\n",
    "plt.xlabel('Threshold', fontsize=16)\n",
    "plt.ylabel('Error Rate', fontsize=16)\n",
    "plt.title('FPR-FNR curves', fontsize=20)\n",
    "plt.legend(loc=\"lower left\", fontsize=16)\n",
    "plt.show()"
   ]
  },
  {
   "cell_type": "code",
   "execution_count": null,
   "metadata": {},
   "outputs": [],
   "source": [
    "from catboost.utils import select_threshold\n",
    "\n",
    "print(select_threshold(model=model, data=eval_pool, FNR=0.01))\n",
    "print(select_threshold(model=model, data=eval_pool, FPR=0.01))"
   ]
  }
 ],
 "metadata": {
  "kernelspec": {
   "display_name": "Python 3",
   "language": "python",
   "name": "python3"
  },
  "language_info": {
   "codemirror_mode": {
    "name": "ipython",
    "version": 3
   },
   "file_extension": ".py",
   "mimetype": "text/x-python",
   "name": "python",
   "nbconvert_exporter": "python",
   "pygments_lexer": "ipython3",
   "version": "3.10.2 (tags/v3.10.2:a58ebcc, Jan 17 2022, 14:12:15) [MSC v.1929 64 bit (AMD64)]"
  },
  "orig_nbformat": 4,
  "vscode": {
   "interpreter": {
    "hash": "42366b4292435664b79d4a7c161ec7b97c9bc29010f3a571e778f7ab20960288"
   }
  }
 },
 "nbformat": 4,
 "nbformat_minor": 2
}
